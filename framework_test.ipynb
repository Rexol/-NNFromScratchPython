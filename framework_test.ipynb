{
 "cells": [
  {
   "cell_type": "markdown",
   "id": "143f1614",
   "metadata": {},
   "source": [
    "## Test of neural network framework, written from scratch using numpy only\n",
    "\n",
    "Author: Vladimir Surtaev\n",
    "Date: November 2021"
   ]
  },
  {
   "cell_type": "markdown",
   "id": "ef5628ae",
   "metadata": {},
   "source": [
    "### MNIST classification"
   ]
  },
  {
   "cell_type": "markdown",
   "id": "107ebe59",
   "metadata": {},
   "source": [
    "#### Data load and processing"
   ]
  },
  {
   "cell_type": "code",
   "execution_count": 1,
   "id": "601887d1",
   "metadata": {},
   "outputs": [],
   "source": [
    "import numpy as np\n",
    "import matplotlib.pyplot as plt\n",
    "%matplotlib inline\n",
    "\n",
    "from framework import nn, optim"
   ]
  },
  {
   "cell_type": "markdown",
   "id": "04cb98d0",
   "metadata": {},
   "source": [
    "Loader takes the dataset and split it on batches"
   ]
  },
  {
   "cell_type": "code",
   "execution_count": 2,
   "id": "ca98cbee",
   "metadata": {},
   "outputs": [],
   "source": [
    "def loader(X, Y, batch_size):\n",
    "    n = X.shape[0]\n",
    "\n",
    "    indices = np.arange(n)\n",
    "    np.random.shuffle(indices)\n",
    "    \n",
    "    for start in range(0, n, batch_size):\n",
    "        end = min(start + batch_size, n)\n",
    "        \n",
    "        batch_idx = indices[start:end]\n",
    "    \n",
    "        yield X[batch_idx], Y[batch_idx]"
   ]
  },
  {
   "cell_type": "markdown",
   "id": "7c52dbd5",
   "metadata": {},
   "source": [
    "Download and load mnist dataset"
   ]
  },
  {
   "cell_type": "code",
   "execution_count": 10,
   "id": "8efbfe4f",
   "metadata": {},
   "outputs": [],
   "source": [
    "import os\n",
    "from sklearn.datasets import fetch_openml\n",
    "\n",
    "if os.path.exists('mnist.npz'):\n",
    "    with np.load('mnist.npz', 'r', allow_pickle=True) as data:\n",
    "        X = data['X']\n",
    "        y = data['y']\n",
    "else:\n",
    "    mnist = fetch_openml(\"mnist_784\")\n",
    "    X = mnist.data / 255.0 # Normalizes mnist\n",
    "    y = mnist.target\n",
    "    np.savez('mnist.npz', X=X, y=y)"
   ]
  },
  {
   "cell_type": "markdown",
   "id": "6aca73c7",
   "metadata": {},
   "source": [
    "Since my cross entropy loss takes target vector, I need to transform target lable into vector:"
   ]
  },
  {
   "cell_type": "code",
   "execution_count": 11,
   "id": "0ae27f35",
   "metadata": {},
   "outputs": [],
   "source": [
    "def to_one_hot(y):\n",
    "    y = np.array(y, dtype=np.int32)\n",
    "    shape = (y.size, y.max() + 1)\n",
    "    one_hot = np.zeros(shape)\n",
    "    rows = np.arange(y.size)\n",
    "    one_hot[rows, y] = 1\n",
    "    return one_hot"
   ]
  },
  {
   "cell_type": "code",
   "execution_count": 12,
   "id": "021ecf9a",
   "metadata": {},
   "outputs": [],
   "source": [
    "y = to_one_hot(y)"
   ]
  },
  {
   "cell_type": "markdown",
   "id": "3740009b",
   "metadata": {},
   "source": [
    "Split X and y on train and test:"
   ]
  },
  {
   "cell_type": "code",
   "execution_count": 14,
   "id": "b81bc620",
   "metadata": {},
   "outputs": [],
   "source": [
    "X_train, X_test = X[:50000], X[50000:60000]\n",
    "y_train, y_test = y[:50000], y[50000:60000]"
   ]
  },
  {
   "cell_type": "markdown",
   "id": "1899df7a",
   "metadata": {},
   "source": [
    "### Model:"
   ]
  },
  {
   "cell_type": "code",
   "execution_count": 23,
   "id": "420f2d4d",
   "metadata": {},
   "outputs": [],
   "source": [
    "model = nn.Sequential(\n",
    "    nn.Linear(784, 512),\n",
    "    nn.LeakyReLU(),\n",
    "    nn.BatchNorm(512),\n",
    "    nn.Dropout(p=0.5),\n",
    "    nn.Linear(512, 256),\n",
    "    nn.LeakyReLU(),\n",
    "    nn.Dropout(p=0.5),\n",
    "    nn.Linear(256, 64),\n",
    "    nn.LeakyReLU(),\n",
    "    nn.Dropout(p=0.5),\n",
    "    nn.Linear(64, 10),\n",
    "    nn.SoftMax()\n",
    ")\n",
    "\n",
    "\n",
    "criterion = nn.CrossEntropy()"
   ]
  },
  {
   "cell_type": "markdown",
   "id": "819f32be",
   "metadata": {},
   "source": [
    "### Accuracy score:\n",
    "\n",
    "Sinse we want to understand models accuracy and not something that shows cross-entropy"
   ]
  },
  {
   "cell_type": "code",
   "execution_count": 20,
   "id": "d96cd661",
   "metadata": {},
   "outputs": [],
   "source": [
    "def accuracy(model, X, Y):\n",
    "    model.eval()\n",
    "    total = 0\n",
    "    correct = 0\n",
    "    for x, y_true in loader(X, Y, batch_size):\n",
    "        # forward: считаем все значения до функции потерь\n",
    "        y_pred = model.forward(x)\n",
    "        for i in range(x.shape[0]):\n",
    "            if (y_pred[i][y_true[i] == 1] == y_pred[i].max()):\n",
    "                correct += 1\n",
    "            total += 1\n",
    "    return correct / total\n"
   ]
  },
  {
   "cell_type": "markdown",
   "id": "31d2c44f",
   "metadata": {},
   "source": [
    "### Learning:"
   ]
  },
  {
   "cell_type": "code",
   "execution_count": 17,
   "id": "577f9962",
   "metadata": {},
   "outputs": [],
   "source": [
    "epochs = 50\n",
    "batch_size = 512\n",
    "learning_rate = 1e-3"
   ]
  },
  {
   "cell_type": "code",
   "execution_count": 24,
   "id": "e56a79f0",
   "metadata": {
    "scrolled": true
   },
   "outputs": [
    {
     "name": "stdout",
     "output_type": "stream",
     "text": [
      "0 0.94864 0.9528\n",
      "1 0.96394 0.9644\n",
      "2 0.97354 0.9693\n",
      "3 0.97764 0.9736\n",
      "4 0.97876 0.9729\n",
      "5 0.98186 0.9742\n",
      "6 0.9853 0.9781\n",
      "7 0.98678 0.9792\n",
      "8 0.98716 0.9763\n",
      "9 0.9888 0.9773\n",
      "10 0.9891 0.9799\n",
      "11 0.99068 0.9807\n",
      "12 0.98906 0.9786\n",
      "13 0.99146 0.9794\n",
      "14 0.99204 0.9799\n",
      "15 0.99284 0.9803\n",
      "16 0.99336 0.9807\n",
      "17 0.99332 0.9804\n",
      "18 0.99416 0.981\n",
      "19 0.99486 0.9816\n",
      "20 0.99466 0.9804\n",
      "21 0.9947 0.9806\n",
      "22 0.9954 0.9818\n",
      "23 0.99572 0.982\n",
      "24 0.9958 0.9825\n",
      "25 0.99614 0.9827\n",
      "26 0.99656 0.9826\n",
      "27 0.99672 0.982\n",
      "28 0.99698 0.9833\n",
      "29 0.99636 0.9826\n",
      "30 0.99716 0.9832\n",
      "31 0.9975 0.9821\n",
      "32 0.99764 0.9838\n",
      "33 0.99734 0.983\n",
      "34 0.9974 0.9832\n",
      "35 0.99808 0.9843\n",
      "36 0.99812 0.9825\n",
      "37 0.9983 0.9845\n",
      "38 0.99824 0.985\n",
      "39 0.99828 0.9854\n",
      "40 0.99812 0.9834\n",
      "41 0.99778 0.9819\n",
      "42 0.99848 0.9825\n",
      "43 0.99846 0.9829\n",
      "44 0.99868 0.9832\n",
      "45 0.99858 0.9838\n",
      "46 0.99882 0.9843\n",
      "47 0.9987 0.9836\n",
      "48 0.99874 0.9839\n",
      "49 0.99922 0.9847\n"
     ]
    },
    {
     "data": {
      "image/png": "[encoded data removed]",
      "text/plain": [
       "<Figure size 432x288 with 1 Axes>"
      ]
     },
     "metadata": {
      "needs_background": "light"
     },
     "output_type": "display_data"
    }
   ],
   "source": [
    "history = []\n",
    "train_accuracy = []\n",
    "test_accuracy = []\n",
    "\n",
    "for i in range(epochs):\n",
    "    model.train()\n",
    "    for x, y_true in loader(X_train, y_train, batch_size):\n",
    "        # forward propocation\n",
    "        y_pred = model.forward(x)\n",
    "        loss = criterion.forward(y_pred, y_true)\n",
    "    \n",
    "        # backward propogation\n",
    "        grad = criterion.backward(y_pred, y_true)\n",
    "        model.backward(x, grad)\n",
    "        \n",
    "        # weights update\n",
    "        optim.SGD(model.parameters(),\n",
    "            model.grad_parameters(),\n",
    "            learning_rate)\n",
    "    \n",
    "        # save the loss\n",
    "        history.append(loss)\n",
    "    train_accuracy.append(accuracy(model, X_train, y_train))\n",
    "    test_accuracy.append(accuracy(model, X_test, y_test))\n",
    "    print(i, train_accuracy[-1], test_accuracy[-1])\n",
    "\n",
    "    \n",
    "plt.title(\"Training loss\")\n",
    "plt.xlabel(\"iteration\")\n",
    "plt.ylabel(\"loss\")\n",
    "plt.plot(history, 'b')\n",
    "plt.show()"
   ]
  },
  {
   "cell_type": "code",
   "execution_count": 26,
   "id": "1a077fab",
   "metadata": {},
   "outputs": [
    {
     "data": {
      "image/png": "[encoded data removed]",
      "text/plain": [
       "<Figure size 432x288 with 1 Axes>"
      ]
     },
     "metadata": {
      "needs_background": "light"
     },
     "output_type": "display_data"
    }
   ],
   "source": [
    "plt.plot([i for i in range(len(train_accuracy))], train_accuracy, test_accuracy)\n",
    "plt.xlabel('epoch')\n",
    "plt.ylabel('accuracy')\n",
    "plt.legend(('train','test'))\n",
    "plt.title(\"Accuracy on Mnist\")\n",
    "plt.show()"
   ]
  }
 ],
 "metadata": {
  "kernelspec": {
   "display_name": "Python 3 (ipykernel)",
   "language": "python",
   "name": "python3"
  },
  "language_info": {
   "codemirror_mode": {
    "name": "ipython",
    "version": 3
   },
   "file_extension": ".py",
   "mimetype": "text/x-python",
   "name": "python",
   "nbconvert_exporter": "python",
   "pygments_lexer": "ipython3",
   "version": "3.8.8"
  }
 },
 "nbformat": 4,
 "nbformat_minor": 5
}
